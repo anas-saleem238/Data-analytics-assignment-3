{
 "cells": [
  {
   "cell_type": "code",
   "execution_count": 81,
   "id": "208006ff-fd56-4b55-a266-e8f539fe1ae9",
   "metadata": {},
   "outputs": [
    {
     "name": "stdout",
     "output_type": "stream",
     "text": [
      "Twinkle, twinkle, little star,\n",
      "                  How I wonder what you are!\n",
      "                          Up above the world so high,\n",
      "                          Like a diamond in the sky.\n",
      "\n",
      "              Twinkle, twinkle, little star,\n",
      "        How I wonder what you are\n"
     ]
    }
   ],
   "source": [
    "print(\"\"\"Twinkle, twinkle, little star,\n",
    "                  How I wonder what you are!\n",
    "                          Up above the world so high,\n",
    "                          Like a diamond in the sky.\n",
    "\n",
    "              Twinkle, twinkle, little star,\n",
    "        How I wonder what you are\"\"\")"
   ]
  },
  {
   "cell_type": "code",
   "execution_count": 3,
   "id": "98e829f1-bbf6-4720-952e-195f9000f50f",
   "metadata": {},
   "outputs": [
    {
     "name": "stdout",
     "output_type": "stream",
     "text": [
      "python version\n",
      "3.12.4 | packaged by Anaconda, Inc. | (main, Jun 18 2024, 15:03:56) [MSC v.1929 64 bit (AMD64)]\n",
      "version info.\n",
      "sys.version_info(major=3, minor=12, micro=4, releaselevel='final', serial=0)\n"
     ]
    }
   ],
   "source": [
    "import sys\n",
    "print(\"python version\")\n",
    "print(sys.version)\n",
    "\n",
    "print (\"version info.\")\n",
    "print (sys.version_info)"
   ]
  },
  {
   "cell_type": "code",
   "execution_count": 21,
   "id": "5eded303-9c4e-4a5c-b154-6e4dc41ddae9",
   "metadata": {},
   "outputs": [
    {
     "name": "stdout",
     "output_type": "stream",
     "text": [
      "current date and time :\n",
      "2024-08-&d 20:59:19\n"
     ]
    }
   ],
   "source": [
    "import datetime\n",
    "now = datetime.datetime.now()\n",
    "print (\"current date and time :\")\n",
    "print(now.strftime(\"%Y-%m-&d %H:%M:%S\"))"
   ]
  },
  {
   "cell_type": "code",
   "execution_count": 18,
   "id": "094642ef-b24d-49de-9f03-0832a9523f66",
   "metadata": {},
   "outputs": [
    {
     "name": "stdin",
     "output_type": "stream",
     "text": [
      "enter center of radius: 3.5\n"
     ]
    },
    {
     "name": "stdout",
     "output_type": "stream",
     "text": [
      "area of circle = 38.4844775\n"
     ]
    }
   ],
   "source": [
    "r = float(input(\"enter center of radius\"))\n",
    "a = 3.14159 * r  * r\n",
    "print(\"area of circle=\", a)\n"
   ]
  },
  {
   "cell_type": "code",
   "execution_count": 28,
   "id": "2e040faf-6703-4b4c-b7b4-943b01eadcbd",
   "metadata": {},
   "outputs": [
    {
     "name": "stdin",
     "output_type": "stream",
     "text": [
      "Enter your fisrt name Anas \n",
      "Enter your last name Saleem\n"
     ]
    },
    {
     "name": "stdout",
     "output_type": "stream",
     "text": [
      "Saleem Anas \n"
     ]
    }
   ],
   "source": [
    "first = input(\"Enter your fisrt name\")\n",
    "last = input(\"Enter your last name\")\n",
    "print (last,first)"
   ]
  },
  {
   "cell_type": "code",
   "execution_count": 35,
   "id": "ac45103d-4359-42a4-be29-3bcde37fae1d",
   "metadata": {},
   "outputs": [
    {
     "name": "stdin",
     "output_type": "stream",
     "text": [
      "first value 65\n",
      "second value 48\n"
     ]
    },
    {
     "name": "stdout",
     "output_type": "stream",
     "text": [
      "113\n"
     ]
    }
   ],
   "source": [
    "a = int(input(\"first value\"))\n",
    "b = int(input(\"second value\"))\n",
    "print(a+b)\n",
    "\n"
   ]
  },
  {
   "cell_type": "code",
   "execution_count": 43,
   "id": "43583256-5fe4-4f69-8f24-f1dab5f0d045",
   "metadata": {},
   "outputs": [
    {
     "name": "stdin",
     "output_type": "stream",
     "text": [
      "English 90\n",
      "Maths 80\n",
      "Chemistry 70\n",
      "Physics 64\n",
      "Pst 71\n"
     ]
    },
    {
     "name": "stdout",
     "output_type": "stream",
     "text": [
      "grades 75.0 %\n"
     ]
    }
   ],
   "source": [
    "a = int(input(\"English\"))\n",
    "b = int(input(\"Maths\"))\n",
    "c = int(input(\"Chemistry\"))\n",
    "d = int(input(\"Physics\"))\n",
    "e = int(input(\"Pst\"))\n",
    "\n",
    "f = (a+b+c+d+e)*100/500\n",
    "\n",
    "print(\"grades\", f, \"%\")\n",
    "\n"
   ]
  },
  {
   "cell_type": "code",
   "execution_count": 57,
   "id": "a1f40c6e-1aaf-4fe7-ba8a-318ddbbcb859",
   "metadata": {},
   "outputs": [
    {
     "name": "stdin",
     "output_type": "stream",
     "text": [
      "enter any number to check its even or odd: 3\n"
     ]
    },
    {
     "name": "stdout",
     "output_type": "stream",
     "text": [
      "the number is odd\n"
     ]
    }
   ],
   "source": [
    "a = int(input(\"enter any number to check its even or odd:\"))\n",
    "if (a % 2) == 0:   \n",
    "           print(\"the number is even\")\n",
    "\n",
    "else: \n",
    "          print (\"the number is odd\")\n",
    "    "
   ]
  },
  {
   "cell_type": "code",
   "execution_count": 58,
   "id": "780af9fa-b608-4745-9d42-58dcee4ec183",
   "metadata": {},
   "outputs": [
    {
     "data": {
      "text/plain": [
       "6"
      ]
     },
     "execution_count": 58,
     "metadata": {},
     "output_type": "execute_result"
    }
   ],
   "source": [
    "a = [1,3,5,7,9,11]\n",
    "len(a)"
   ]
  },
  {
   "cell_type": "code",
   "execution_count": 59,
   "id": "5510efa1-4bc3-4cf0-a91e-3532f9c5db01",
   "metadata": {},
   "outputs": [
    {
     "name": "stdout",
     "output_type": "stream",
     "text": [
      "36\n"
     ]
    }
   ],
   "source": [
    "a = [1,3,5,7,9,11]\n",
    "print ( sum (a))"
   ]
  },
  {
   "cell_type": "code",
   "execution_count": 72,
   "id": "b86ebfa9-9ee8-4946-8c92-03c0772be712",
   "metadata": {},
   "outputs": [
    {
     "name": "stdout",
     "output_type": "stream",
     "text": [
      "36\n"
     ]
    }
   ],
   "source": [
    "a = [1,3,5,36,9,11]\n",
    "print ( a [-3])\n"
   ]
  },
  {
   "cell_type": "code",
   "execution_count": 74,
   "id": "14086222-dfcf-468c-8078-cabd5fe511b5",
   "metadata": {},
   "outputs": [
    {
     "name": "stdout",
     "output_type": "stream",
     "text": [
      "[1, 3, 5]\n"
     ]
    }
   ],
   "source": [
    "a = [1, 3, 5, 7, 9, 11, 13, 15, 17, 19, 21]\n",
    "print (a[:3])"
   ]
  },
  {
   "cell_type": "code",
   "execution_count": null,
   "id": "7ea7cddb-fc44-44c6-8424-2f081a693033",
   "metadata": {},
   "outputs": [],
   "source": []
  }
 ],
 "metadata": {
  "kernelspec": {
   "display_name": "Python 3 (ipykernel)",
   "language": "python",
   "name": "python3"
  },
  "language_info": {
   "codemirror_mode": {
    "name": "ipython",
    "version": 3
   },
   "file_extension": ".py",
   "mimetype": "text/x-python",
   "name": "python",
   "nbconvert_exporter": "python",
   "pygments_lexer": "ipython3",
   "version": "3.12.4"
  }
 },
 "nbformat": 4,
 "nbformat_minor": 5
}
